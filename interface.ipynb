{
 "cells": [
  {
   "cell_type": "code",
   "execution_count": 5,
   "metadata": {},
   "outputs": [
    {
     "data": {
      "application/vnd.jupyter.widget-view+json": {
       "model_id": "dead98771fbb4d119f190adc72fc5f99",
       "version_major": 2,
       "version_minor": 0
      },
      "text/plain": [
       "Text(value='', description='Recherche:', placeholder='Entrez votre terme de recherche')"
      ]
     },
     "metadata": {},
     "output_type": "display_data"
    },
    {
     "data": {
      "application/vnd.jupyter.widget-view+json": {
       "model_id": "392545fd75da4d4aa81161c118289cb1",
       "version_major": 2,
       "version_minor": 0
      },
      "text/plain": [
       "Button(description='Chercher', style=ButtonStyle())"
      ]
     },
     "metadata": {},
     "output_type": "display_data"
    },
    {
     "data": {
      "application/vnd.jupyter.widget-view+json": {
       "model_id": "4d6de4b95d2348b99c08847990b39e0f",
       "version_major": 2,
       "version_minor": 0
      },
      "text/plain": [
       "Output()"
      ]
     },
     "metadata": {},
     "output_type": "display_data"
    }
   ],
   "source": [
    "# importation des modules  \n",
    "import ipywidgets as widgets\n",
    "from IPython.display import display\n",
    "import pandas as pd\n",
    "\n",
    "# Charger les données depuis le fichier du corpus (doc.pkl)\n",
    "with open('doc.pkl', 'rb') as file:\n",
    "    documents = pd.read_pickle(file)\n",
    "\n",
    "# Fonction pour effectuer la recherche dans la liste de documents\n",
    "def search_in_documents(query):\n",
    "    results = [doc for doc in documents if query.lower() in doc.lower()]\n",
    "    return results if results else [\" Le terme de recherche n'a pas été trouvé dans le corpus.\"]\n",
    "\n",
    "# Fonction appelée lorsque le bouton de recherche est cliqué\n",
    "def on_search_button_clicked(b):\n",
    "    with output:\n",
    "        output.clear_output()\n",
    "        query = search_textbox.value\n",
    "        if query:\n",
    "            search_results = search_in_documents(query)\n",
    "            for result in search_results:\n",
    "                print(result)\n",
    "        else:\n",
    "            print(\"Veuillez entrer un terme de recherche.\")\n",
    "\n",
    "# Widgets\n",
    "search_textbox = widgets.Text(\n",
    "    placeholder='Entrez votre terme de recherche',\n",
    "    description='Recherche:',\n",
    "    disabled=False\n",
    ")\n",
    "\n",
    "search_button = widgets.Button(description=\"Chercher\")\n",
    "output = widgets.Output()\n",
    "\n",
    "# Affichage des widgets\n",
    "display(search_textbox, search_button, output)\n",
    "\n",
    "# Lier le bouton à la fonction de gestion de l'événement\n",
    "search_button.on_click(on_search_button_clicked)\n"
   ]
  },
  {
   "cell_type": "code",
   "execution_count": null,
   "metadata": {},
   "outputs": [],
   "source": [
    "Projet programmation Python, enseignement de spécialité\n",
    "M1 - Info\n",
    "\n",
    "\n",
    "\n",
    "\n",
    "\n",
    "\n",
    "\n"
   ]
  }
 ],
 "metadata": {
  "kernelspec": {
   "display_name": "Python 3",
   "language": "python",
   "name": "python3"
  },
  "language_info": {
   "codemirror_mode": {
    "name": "ipython",
    "version": 3
   },
   "file_extension": ".py",
   "mimetype": "text/x-python",
   "name": "python",
   "nbconvert_exporter": "python",
   "pygments_lexer": "ipython3",
   "version": "3.10.12"
  }
 },
 "nbformat": 4,
 "nbformat_minor": 2
}
