{
 "cells": [
  {
   "cell_type": "code",
   "execution_count": 2,
   "metadata": {},
   "outputs": [
    {
     "data": {
      "application/vnd.jupyter.widget-view+json": {
       "model_id": "660a85d6320b4fc8822a83bbc9b821dd",
       "version_major": 2,
       "version_minor": 0
      },
      "text/plain": [
       "Text(value='', description='mot:', placeholder='Entrez le mot que vous voulez chercher')"
      ]
     },
     "metadata": {},
     "output_type": "display_data"
    },
    {
     "data": {
      "application/vnd.jupyter.widget-view+json": {
       "model_id": "7362e18d1eff4779b8c9244dbb9940bb",
       "version_major": 2,
       "version_minor": 0
      },
      "text/plain": [
       "Button(description='Chercher', style=ButtonStyle())"
      ]
     },
     "metadata": {},
     "output_type": "display_data"
    },
    {
     "data": {
      "application/vnd.jupyter.widget-view+json": {
       "model_id": "4cddd46f9d8b468bb32e681170552302",
       "version_major": 2,
       "version_minor": 0
      },
      "text/plain": [
       "Output()"
      ]
     },
     "metadata": {},
     "output_type": "display_data"
    }
   ],
   "source": [
    "# importation des librairies\n",
    "import ipywidgets as widgets\n",
    "from IPython.display import display\n",
    "import pandas as pd\n",
    "\n",
    "# Fonction pour traiter le fichier\n",
    "def process_file(file_path):\n",
    "    # Ici, vous pouvez ajouter le code pour traiter votre fichier\n",
    "    # Par exemple, si c'est un fichier CSV, vous pourriez le lire avec Pandas\n",
    "    try:\n",
    "        data = pd.read_csv(file_path)\n",
    "        return data.head()  # Retourner les premières lignes pour l'exemple\n",
    "    except Exception as e:\n",
    "        return str(e)  # Retourner l'erreur si la lecture échoue\n",
    "\n",
    "# Fonction appelée lorsque le bouton est cliqué\n",
    "def on_button_clicked(b):\n",
    "    with output:\n",
    "        output.clear_output()\n",
    "        print(\"Traitement en cours...\")\n",
    "        # Appeler la fonction de traitement et afficher les résultats\n",
    "        print(process_file(file_textbox.value))\n",
    "\n",
    "# Création des widgets\n",
    "\n",
    "file_textbox = widgets.Text(\n",
    "    value='',\n",
    "    placeholder='Entrez le mot que vous voulez chercher',\n",
    "    description='Saisir le mot :',\n",
    "    disabled=False\n",
    ")\n",
    "\n",
    "button = widgets.Button(description=\"Chercher\")\n",
    "output = widgets.Output()\n",
    "\n",
    "# Affichage des widgets\n",
    "display(file_textbox, button, output)\n",
    "\n",
    "# Lier le bouton à la fonction\n",
    "button.on_click(on_button_clicked)\n"
   ]
  }
 ],
 "metadata": {
  "kernelspec": {
   "display_name": "Python 3",
   "language": "python",
   "name": "python3"
  },
  "language_info": {
   "codemirror_mode": {
    "name": "ipython",
    "version": 3
   },
   "file_extension": ".py",
   "mimetype": "text/x-python",
   "name": "python",
   "nbconvert_exporter": "python",
   "pygments_lexer": "ipython3",
   "version": "3.10.12"
  }
 },
 "nbformat": 4,
 "nbformat_minor": 2
}
